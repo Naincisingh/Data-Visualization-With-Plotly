{
 "cells": [
  {
   "cell_type": "markdown",
   "id": "163dea5d-6c6e-4bd6-a525-8c1193b3995c",
   "metadata": {},
   "source": [
    "\"\"\"QTS.1\"\"\"\n",
    "link of plotly notebook- https://colab.research.google.com/drive/1IqbJ_Xw6d1SzI7krrH9ts3sipu_vFcjN#scrollTo=iANWQ52mXOvl&line=3&uniqifier=1"
   ]
  },
  {
   "cell_type": "markdown",
   "id": "346a2a9d-4925-4173-a5e5-cc6b6a55b5c8",
   "metadata": {},
   "source": [
    "\"\"\"QTS.2\"\"\"\n",
    "https://colab.research.google.com/drive/1IqbJ_Xw6d1SzI7krrH9ts3sipu_vFcjN#scrollTo=844sSpwjh9rC&line=5&uniqifier=1"
   ]
  },
  {
   "cell_type": "markdown",
   "id": "9e8d6ecd-b63d-4985-bcdb-a58ded8898c1",
   "metadata": {},
   "source": [
    "\"\"\"\"QTS.3\"\"\"\n",
    "https://colab.research.google.com/drive/1IqbJ_Xw6d1SzI7krrH9ts3sipu_vFcjN#scrollTo=StpjQmXqq5Yb&line=6&uniqifier=1"
   ]
  },
  {
   "cell_type": "markdown",
   "id": "993b8b2a-eb19-4bd3-bed7-c939636f9a7e",
   "metadata": {},
   "source": [
    "\"\"\"\"QTS.4\"\"\"\n",
    "https://colab.research.google.com/drive/1IqbJ_Xw6d1SzI7krrH9ts3sipu_vFcjN#scrollTo=ZuazzG_zW8OU&line=7&uniqifier=1"
   ]
  },
  {
   "cell_type": "markdown",
   "id": "33ce5fbd-55b0-4a6a-b131-c0d6006b2a1a",
   "metadata": {},
   "source": [
    "\"\"\"\"QTS.5\"\"\"\n",
    "\n",
    "\"\"\" In Plotly Express, the distplot function was used to create distribution plots. However, as of my last knowledge update in September 2021, distplot has been deprecated and removed from Plotly Express. Instead, Plotly Express recommends using the hist function to create histograms and the box function to create box plots for visualizing distributions.\"\"\"\n",
    "\n",
    "https://colab.research.google.com/drive/1IqbJ_Xw6d1SzI7krrH9ts3sipu_vFcjN#scrollTo=frjQalK-t4II&line=4&uniqifier=1"
   ]
  },
  {
   "cell_type": "code",
   "execution_count": null,
   "id": "6924823e-41b4-4a0b-8c08-cc7c8d69980d",
   "metadata": {},
   "outputs": [],
   "source": []
  }
 ],
 "metadata": {
  "kernelspec": {
   "display_name": "Python 3 (ipykernel)",
   "language": "python",
   "name": "python3"
  },
  "language_info": {
   "codemirror_mode": {
    "name": "ipython",
    "version": 3
   },
   "file_extension": ".py",
   "mimetype": "text/x-python",
   "name": "python",
   "nbconvert_exporter": "python",
   "pygments_lexer": "ipython3",
   "version": "3.10.8"
  }
 },
 "nbformat": 4,
 "nbformat_minor": 5
}
